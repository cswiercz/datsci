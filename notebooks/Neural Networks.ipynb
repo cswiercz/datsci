{
 "cells": [
  {
   "cell_type": "code",
   "execution_count": 26,
   "metadata": {
    "collapsed": false
   },
   "outputs": [
    {
     "name": "stdout",
     "output_type": "stream",
     "text": [
      "Using matplotlib backend: MacOSX\n",
      "Populating the interactive namespace from numpy and matplotlib\n"
     ]
    }
   ],
   "source": [
    "%pylab\n",
    "%matplotlib inline\n",
    "\n",
    "rcParams['figure.figsize'] = 12,8"
   ]
  },
  {
   "cell_type": "markdown",
   "metadata": {},
   "source": [
    "# Single-Layer Back Propagation Networks\n",
    "\n",
    "* **Regression** - $K = 1$\n",
    "* **Classification** - $K > 1$\n",
    "  - $K$ target measurements $Y_k \\in [0,1]$ representing probabilities of class $k$\n",
    "  - $M$ derived features $Z_m$: linear combinations of inputs $X_1,\\ldots,X_p$\n",
    "  - $Y_k$ ends up being linear combinations of the $Z_m$\n",
    "  \n",
    "  i.e. it all boils down to linear algebra (surprise!)\n",
    "\n",
    "## Classification\n",
    "\n",
    "Given functions $g_M : \\mathbb{R} \\to [0,1]$ and an activation function $\\sigma : \\mathbb{R} \\to [0,1]$ (usually chosen to be the sigmoid function) we consider the system\n",
    "\n",
    "$$\n",
    "\\begin{align}\n",
    "Z_m    &= \\sigma\\left(\\alpha_{0m} + \\alpha_m^T X\\right), & m &= 1,\\ldots,M \\\\\n",
    "f_k(X) &= g_k\\left( \\beta_{0k} + \\beta_k^T Z \\right),    & k &= 1,\\ldots,k,\n",
    "\\end{align}\n",
    "$$\n",
    "\n",
    "where $Z = (Z_1,\\ldots,Z_m)$.\n",
    "\n",
    "* $\\alpha_{0m}, \\beta_{0k}$ are bias terms. Alternatively, $X = (X_0=1,X_1,\\ldots,X_p)$ and $Z = (Z_0=1,Z_1,\\ldots,Z_M)$ can be used in the formulae\n",
    "\n",
    "  $$\n",
    "  \\begin{align}\n",
    "  Z_m    &= \\sigma\\left(\\alpha_m^T X\\right), & m &= 0,\\ldots,M \\\\\n",
    "  f_k(X) &= g_k\\left(\\beta_k^T Z \\right),    & k &= 0,\\ldots,k.\n",
    "  \\end{align}\n",
    "  $$\n",
    "  \n",
    "* in $K$-class classification people use\n",
    "\n",
    "  $$\n",
    "  g_k(T) = \\frac{e^{T_k}}{\\sum_{l=1^K} e^{T_l}}\n",
    "  $$\n",
    "  \n",
    "  \n",
    "## Finding Weights $\\alpha,\\beta$\n",
    "\n",
    "Let\n",
    "\n",
    "$$\n",
    "\\alpha = [\\alpha_0 \\; \\alpha_1 \\; \\ldots \\; \\alpha_M] \\in \\mathbb{R}^{(p+1) \\times (M+1)},\n",
    "\\quad\n",
    "\\beta = [\\beta_0 \\; \\beta_1 \\; \\ldots \\; \\beta_K] \\in \\mathbb{R}^{(M+1) \\times (K+1)}.\n",
    "$$\n",
    "\n",
    "Let $\\theta$ denote the complete set of $\\alpha_{ij}$ and $\\beta_{ij}$. To find optimal $\\theta$ we minimize the square error\n",
    "$$\n",
    "R(\\theta) = \\sum_{k=1}^K\\sum_{i=1}^N(y_{ik} - f_k(x_i))^2.\n",
    "$$\n",
    "*(Personal note: what is $y_{ik}$?)* Use your favorite method to do so. A standard approach is gradient descent.\n",
    "\n",
    "Easy calculus aside, the updates for each $\\alpha_{ml}$ and $\\beta_{km}$ are given below\n",
    "\n",
    "$$\n",
    "\\begin{align*}\n",
    "\\alpha_{ml}^{(r+1)}\n",
    "&=\n",
    "\\alpha_{ml}^{(r)} - \\gamma_y \\sum_{i=1}^N \\frac{\\partial R_i}{\\partial \\alpha_{ml}^{(r)}}, \\\\\n",
    "\\beta_{km}^{(r+1)}\n",
    "&=\n",
    "\\beta_{km}^{(r)} - \\gamma_y \\sum_{i=1}^N \\frac{\\partial R_i}{\\partial \\beta_{km}^{(r)}}.\n",
    "\\end{align*}\n",
    "$$"
   ]
  },
  {
   "cell_type": "code",
   "execution_count": 88,
   "metadata": {
    "collapsed": false
   },
   "outputs": [
    {
     "data": {
      "text/plain": [
       "[<matplotlib.lines.Line2D at 0x1103fb790>]"
      ]
     },
     "execution_count": 88,
     "metadata": {},
     "output_type": "execute_result"
    },
    {
     "data": {
      "image/png": "[encoded data removed]",
      "text/plain": [
       "<matplotlib.figure.Figure at 0x1103fb0d0>"
      ]
     },
     "metadata": {},
     "output_type": "display_data"
    }
   ],
   "source": [
    "n = 256\n",
    "p = 2\n",
    "\n",
    "# generate random training data\n",
    "seed(1)\n",
    "orange1 = [2,1]*randn(n/4,p) + [0,1]\n",
    "orange2 = [1,1]*randn(n/4,p) + [1,-1]\n",
    "orange  = append(orange1,orange2,axis=0)\n",
    "blue = [1,1]*randn(n/2,p) + [-1.5,-1.5]\n",
    "\n",
    "# training data\n",
    "x = append(orange,blue,axis=0)\n",
    "y = append(zeros(n/2),ones(n/2),axis=0)\n",
    "\n",
    "# plot the training data\n",
    "kwds = {'marker':'o', 'markersize':8, 'fillstyle':'none',\n",
    "        'markeredgewidth':2, 'linestyle':'none'}\n",
    "plot(orange[:,0], orange[:,1], color='orange', **kwds)\n",
    "plot(blue[:,0], blue[:,1], color='blue', **kwds)"
   ]
  },
  {
   "cell_type": "code",
   "execution_count": null,
   "metadata": {
    "collapsed": true
   },
   "outputs": [],
   "source": [
    "@vectorize\n",
    "def sigma(v):\n",
    "    return 1/(1+exp(-v))\n",
    "\n",
    "@vectorize\n",
    "def dsigma(v):\n",
    "    u = exp(-v)\n",
    "    return u/(1+u)**2\n",
    "    \n",
    "def g(T,k=0):\n",
    "    return exp(T[k])/sum(exp(T))"
   ]
  }
 ],
 "metadata": {
  "kernelspec": {
   "display_name": "Python 2",
   "language": "python",
   "name": "python2"
  },
  "language_info": {
   "codemirror_mode": {
    "name": "ipython",
    "version": 2
   },
   "file_extension": ".py",
   "mimetype": "text/x-python",
   "name": "python",
   "nbconvert_exporter": "python",
   "pygments_lexer": "ipython2",
   "version": "2.7.10"
  }
 },
 "nbformat": 4,
 "nbformat_minor": 0
}
